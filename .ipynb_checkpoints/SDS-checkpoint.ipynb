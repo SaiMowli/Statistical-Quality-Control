{
 "cells": [
  {
   "cell_type": "markdown",
   "id": "18e83e6b",
   "metadata": {},
   "source": [
    "# Importing required libraries"
   ]
  },
  {
   "cell_type": "code",
   "execution_count": null,
   "id": "3279ffaf",
   "metadata": {},
   "outputs": [],
   "source": [
    "import pandas as pd \n",
    "import statistics\n",
    "from statistics import mean,pstdev\n",
    "import matplotlib.pyplot as plt\n",
    "import numpy as np"
   ]
  },
  {
   "cell_type": "markdown",
   "id": "0e201da7",
   "metadata": {},
   "source": [
    " # Step-1"
   ]
  },
  {
   "cell_type": "code",
   "execution_count": null,
   "id": "ff9e85df",
   "metadata": {},
   "outputs": [],
   "source": [
    "# lets first read the data from the excel sheet\n",
    "df = pd.read_excel(\"data.xlsx\")\n",
    "table_df = pd.read_excel(\"table_values.xlsx\")\n",
    "# lets check if the read data is in proper order or not\n",
    "print(df)\n",
    "print(table_df)"
   ]
  },
  {
   "cell_type": "markdown",
   "id": "f118a5c6",
   "metadata": {},
   "source": [
    "# Step-2"
   ]
  },
  {
   "cell_type": "code",
   "execution_count": null,
   "id": "bc5172b1",
   "metadata": {},
   "outputs": [],
   "source": [
    "# Count the no.of Rows and store it in the count_row\n",
    "# Here the shape[0] gives the no.of rows in the data sheet.\n",
    "\n",
    "count_row = df.shape[0]\n",
    "# Count the no.of columns and store it in the count_col\n",
    "# Here the shape[1] gives the no.of columns .\n",
    "# since the columns starts with '0' we substract '1' from the count\n",
    "\n",
    "count_col = df.shape[1]-1\n",
    "# Let's check the no.of columns is read correctly\n",
    "\n",
    "print(\"No.of Observations: \",count_col)\n",
    "# Let's read the table values required for the calculation of quality check\n",
    "A2 = table_df.iloc[count_col-2,1]\n",
    "D3 = table_df.iloc[count_col-2,2]\n",
    "D4 = table_df.iloc[count_col-2,3]\n",
    "# Let's check  if the tablular values are readed correctly\n",
    "print(\"VALUE OF A2: \",A2)\n",
    "print(\"VALUE OF D3: \",D3)\n",
    "print(\"VALUE OF D4: \",D4)"
   ]
  },
  {
   "cell_type": "markdown",
   "id": "2e0fdcd4",
   "metadata": {},
   "source": [
    "# Step-3"
   ]
  },
  {
   "cell_type": "code",
   "execution_count": null,
   "id": "d589d80e",
   "metadata": {},
   "outputs": [],
   "source": [
    "# create a list to store the means and ranges of all the observations \n",
    "mean_ls=[]\n",
    "range_ls=[]\n",
    "# Let's store the values of mean and range of samples ito the created lists\n",
    "for i in range(count_row):\n",
    "    row = df.iloc[i,1:]\n",
    "    range_ls.append(row.max()-row.min())\n",
    "    mean_ls.append(row.mean())"
   ]
  },
  {
   "cell_type": "markdown",
   "id": "d33b108d",
   "metadata": {},
   "source": [
    "# Step-4"
   ]
  },
  {
   "cell_type": "code",
   "execution_count": null,
   "id": "1f3a780c",
   "metadata": {},
   "outputs": [],
   "source": [
    "# The mean values stored are rounded to decimal of 5 in form of string\n",
    "mean_str_rounded_ls = [ '%.5f' % elem for elem in mean_ls ]\n",
    "# The string is converted into list of numerics of float values\n",
    "integer_map = map(float,mean_str_rounded_ls)\n",
    "mean_rounded_ls = list(integer_map)"
   ]
  },
  {
   "cell_type": "markdown",
   "id": "417460e0",
   "metadata": {},
   "source": [
    "# Step-5"
   ]
  },
  {
   "cell_type": "code",
   "execution_count": null,
   "id": "3e81aab6",
   "metadata": {},
   "outputs": [],
   "source": [
    "# The range values stored are rounded to decimal of 5 in form of string\n",
    "range_str_rounded_ls = [ '%.5f' % elem for elem in range_ls ]\n",
    "# The string is converted into list of numerics of float values\n",
    "integer_mapp = map(float,range_str_rounded_ls)\n",
    "range_rounded_ls = list(integer_mapp)"
   ]
  },
  {
   "cell_type": "markdown",
   "id": "23492c1f",
   "metadata": {},
   "source": [
    "# Step-6"
   ]
  },
  {
   "cell_type": "code",
   "execution_count": null,
   "id": "558f43a1",
   "metadata": {},
   "outputs": [],
   "source": [
    "# Let's calculate the the mean to all the means of observations\n",
    "meanchart_control_limit = round(mean(mean_rounded_ls),5)\n",
    "# Let's check the mean of all the means of observations\n",
    "print(\"\\nMEAN-CHART CONTROL LIMIT: \",meanchart_control_limit)\n",
    "# Let's calculate the the mean to all the range of observations\n",
    "rangechart_control_limit = round(mean(range_rounded_ls),5)\n",
    "# Let's check the range of all the means of observations\n",
    "print(\"\\nRANGE-CHART CONTROL LIMIT: \",rangechart_control_limit)"
   ]
  },
  {
   "cell_type": "markdown",
   "id": "81d7a4d5",
   "metadata": {},
   "source": [
    "# Step-7"
   ]
  },
  {
   "cell_type": "code",
   "execution_count": null,
   "id": "3e9daaa4",
   "metadata": {},
   "outputs": [],
   "source": [
    "# Calculate standard deviation \n",
    "m_sd = statistics.pstdev(mean_rounded_ls)\n",
    "# Let's calculate the Upper Control Limit for mean using the formula\n",
    "m_upper_control_limit = meanchart_control_limit + A2*rangechart_control_limit\n",
    "# Let's calculate the Lower Control Limit using for mean the formula\n",
    "m_lower_control_limit = meanchart_control_limit - A2*rangechart_control_limit\n",
    "# Lets's check the 'UCL' and 'LCL' values\n",
    "print(\"\\nMEAN-CHART UPPER CONTROL LIMIT: \",m_upper_control_limit)\n",
    "print(\"MEAN-CHART LOWER CONTROL LIMIT: \",m_lower_control_limit)"
   ]
  },
  {
   "cell_type": "markdown",
   "id": "8ce0f815",
   "metadata": {},
   "source": [
    "# Step-8"
   ]
  },
  {
   "cell_type": "code",
   "execution_count": null,
   "id": "34a661c9",
   "metadata": {},
   "outputs": [],
   "source": [
    "# Calculate standard deviation \n",
    "r_sd = statistics.pstdev(range_rounded_ls)\n",
    "# Let's calculate the Upper Control Limit for range using the formula\n",
    "r_upper_control_limit = D4*rangechart_control_limit\n",
    "# Let's calculate the Lower Control Limit for range# "
   ]
  },
  {
   "cell_type": "markdown",
   "id": "52ef5dfb",
   "metadata": {},
   "source": [
    "# Step-9"
   ]
  },
  {
   "cell_type": "code",
   "execution_count": null,
   "id": "4f6a9a52",
   "metadata": {},
   "outputs": [],
   "source": [
    "# Let's store the means of observations in a array of 'm_arr' to plot the graph\n",
    "m_arr = np.array(mean_rounded_ls)\n",
    "# Let's store the 'UCL' to plot on the graph in a array named 'm_uc_arr'\n",
    "m_uc_arr = np.ones(len(mean_rounded_ls))*m_upper_control_limit\n",
    "# Let's store the 'LCL' to plot on the graph in a array named 'm_lc_arr'\n",
    "m_lc_arr = np.ones(len(mean_rounded_ls))*m_lower_control_limit\n",
    "# Let's store the 'CL' to plot on the graph in a array named 'm_c_arr'\n",
    "m_c_arr = np.ones(len(mean_rounded_ls))*meanchart_control_limit"
   ]
  },
  {
   "cell_type": "markdown",
   "id": "831c0631",
   "metadata": {},
   "source": [
    "# Step-10"
   ]
  },
  {
   "cell_type": "code",
   "execution_count": null,
   "id": "d3d4b667",
   "metadata": {},
   "outputs": [],
   "source": [
    "# Let's store the ranges of observations in a array of 'r_arr' to plot the graph\n",
    "r_arr = np.array(range_rounded_ls)\n",
    "# Let's store the 'UCL' to plot on the graph in a array named 'r_uc_arr'\n",
    "r_uc_arr = np.ones(len(range_rounded_ls))*r_upper_control_limit\n",
    "# Let's store the 'LCL' to plot on the graph in a array named 'r_lc_arr'\n",
    "r_lc_arr = np.ones(len(range_rounded_ls))*r_lower_control_limit\n",
    "# Let's store the 'CL' to plot on the graph in a array named 'r_c_arr'\n",
    "r_c_arr = np.ones(len(range_rounded_ls))*rangechart_control_limit"
   ]
  },
  {
   "cell_type": "markdown",
   "id": "3da952cd",
   "metadata": {},
   "source": [
    "# Step-11"
   ]
  },
  {
   "cell_type": "code",
   "execution_count": null,
   "id": "4d326317",
   "metadata": {},
   "outputs": [],
   "source": [
    "# Let's plot the graph according to the values we calculated\n",
    "# Plot means of observations\n",
    "plt.plot(m_arr, marker='o', linestyle='--', color='r', label='observations') \n",
    "# Plot 'UCL' on the graph\n",
    "plt.plot(m_uc_arr,linestyle='-',color='g', label='upper control limit') \n",
    "# Plot 'LCL' on the graph\n",
    "plt.plot(m_lc_arr,linestyle='-', color='b', label='lower control limit') \n",
    "# Plot 'CL' on the graph\n",
    "plt.plot(m_c_arr,linestyle='-', color='black', label='control limit') \n",
    "plt.xlabel('x-axis')\n",
    "plt.ylabel('y-axis') \n",
    "plt.title('MEAN CHART')\n",
    "plt.legend() \n",
    "plt.show()"
   ]
  },
  {
   "cell_type": "markdown",
   "id": "a29ad045",
   "metadata": {},
   "source": [
    "# Step-12"
   ]
  },
  {
   "cell_type": "code",
   "execution_count": null,
   "id": "48ea0373",
   "metadata": {},
   "outputs": [],
   "source": [
    "# Let's plot the graph according to the values we calculated\n",
    "# Plot ranges of observations\n",
    "plt.plot(r_arr, marker='o', linestyle='--', color='r', label='observations') \n",
    "# Plot 'UCL' on the graph\n",
    "plt.plot(r_uc_arr,linestyle='-',color='g', label='upper control limit') \n",
    "# Plot 'LCL' on the graph\n",
    "plt.plot(r_lc_arr,linestyle='-', color='b', label='lower control limit') \n",
    "# Plot 'CL' on the graph\n",
    "plt.plot(r_c_arr,linestyle='-', color='black', label='control limit') \n",
    "plt.xlabel('x-axis')\n",
    "plt.ylabel('y-axis') \n",
    "plt.title('RANGE CHART')\n",
    "plt.legend() \n",
    "plt.show()\n"
   ]
  }
 ],
 "metadata": {
  "kernelspec": {
   "display_name": "Python 3 (ipykernel)",
   "language": "python",
   "name": "python3"
  },
  "language_info": {
   "codemirror_mode": {
    "name": "ipython",
    "version": 3
   },
   "file_extension": ".py",
   "mimetype": "text/x-python",
   "name": "python",
   "nbconvert_exporter": "python",
   "pygments_lexer": "ipython3",
   "version": "3.9.7"
  }
 },
 "nbformat": 4,
 "nbformat_minor": 5
}
